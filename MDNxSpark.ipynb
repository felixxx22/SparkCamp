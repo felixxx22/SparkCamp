{
 "cells": [
  {
   "cell_type": "markdown",
   "id": "d02f43b8",
   "metadata": {},
   "source": [
    "# Cat and Dog Classifier using fastai"
   ]
  },
  {
   "cell_type": "markdown",
   "id": "8074c684",
   "metadata": {},
   "source": [
    "## Install and Import Libraries"
   ]
  },
  {
   "cell_type": "code",
   "execution_count": null,
   "id": "df73042f",
   "metadata": {},
   "outputs": [],
   "source": [
    "# import fastbook\n",
    "# fastbook.setup_book()\n",
    "#hide \n",
    "# from fastbook import *\n",
    "# from fastai.vision.all import *"
   ]
  },
  {
   "cell_type": "code",
   "execution_count": null,
   "id": "ad6075ba",
   "metadata": {},
   "outputs": [],
   "source": [
    "# path = untar_data(URLs.PETS)\n",
    "# files = get_image_files(path/'images')[:100]"
   ]
  },
  {
   "cell_type": "code",
   "execution_count": null,
   "id": "e98f4f92",
   "metadata": {},
   "outputs": [],
   "source": [
    "#def label_func(f): return f[0].isupper()"
   ]
  },
  {
   "cell_type": "code",
   "execution_count": null,
   "id": "7f0fe834",
   "metadata": {},
   "outputs": [],
   "source": [
    "# dls = ImageDataLoaders.from_name_func(path, files, label_func, item_tfms=Resize(224), valid_pct=0.2)"
   ]
  },
  {
   "cell_type": "code",
   "execution_count": null,
   "id": "674b628d",
   "metadata": {},
   "outputs": [],
   "source": [
    "# learn = vision_learner(dls, resnet34, metrics=[error_rate, accuracy])\n",
    "#learn.fine_tune(5)"
   ]
  },
  {
   "cell_type": "code",
   "execution_count": null,
   "id": "0505e1b3",
   "metadata": {},
   "outputs": [],
   "source": [
    "from fastai.vision.all import *\n",
    "learn = load_learner('export.pkl')"
   ]
  },
  {
   "cell_type": "code",
   "execution_count": null,
   "id": "b14fc434",
   "metadata": {},
   "outputs": [],
   "source": [
    "# Upload and predict\n",
    "import ipywidgets as widgets\n",
    "from IPython.display import display\n",
    "\n",
    "uploader = widgets.FileUpload()\n",
    "display(uploader)\n",
    "\n",
    "# Once uploaded\n",
    "if uploader.value:\n",
    "    fname = list(uploader.value.keys())[0]\n",
    "    content = uploader.value[fname]['content']\n",
    "    with open(fname, 'wb') as f:\n",
    "        f.write(content)\n",
    "    img = PILImage.create(fname)\n",
    "    pred_class, pred_idx, probs = learn.predict(img)\n",
    "    display(img.to_thumb(256))\n",
    "    print(f\"Prediction: {pred_class}, Probability: {probs[pred_idx]:.4f}\")\n"
   ]
  }
 ],
 "metadata": {
  "kernelspec": {
   "display_name": "Python 3",
   "language": "python",
   "name": "python3"
  },
  "language_info": {
   "codemirror_mode": {
    "name": "ipython",
    "version": 3
   },
   "file_extension": ".py",
   "mimetype": "text/x-python",
   "name": "python",
   "nbconvert_exporter": "python",
   "pygments_lexer": "ipython3",
   "version": "3.10.1"
  }
 },
 "nbformat": 4,
 "nbformat_minor": 5
}
